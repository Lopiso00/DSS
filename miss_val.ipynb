{
 "cells": [
  {
   "cell_type": "markdown",
   "metadata": {},
   "source": [
    "INDIVIDUARE E TRATTARE I MISSING VALUES"
   ]
  },
  {
   "cell_type": "code",
   "execution_count": null,
   "metadata": {},
   "outputs": [],
   "source": []
  },
  {
   "cell_type": "code",
   "execution_count": 1,
   "metadata": {},
   "outputs": [],
   "source": [
    "import numpy as np\n",
    "import pandas as pd\n",
    "import matplotlib.pyplot as plt\n",
    "import seaborn as sns"
   ]
  },
  {
   "cell_type": "code",
   "execution_count": 3,
   "metadata": {},
   "outputs": [],
   "source": [
    "# importo il dataset\n",
    "df = pd.read_csv(\"train.csv\")"
   ]
  },
  {
   "cell_type": "code",
   "execution_count": 4,
   "metadata": {},
   "outputs": [],
   "source": [
    "# creo una copia su cui lavorare mantenendo inalterato l'originale\n",
    "dfm = df.copy()"
   ]
  },
  {
   "cell_type": "code",
   "execution_count": 5,
   "metadata": {},
   "outputs": [
    {
     "data": {
      "text/plain": [
       "name                         0\n",
       "duration_ms                  0\n",
       "explicit                     0\n",
       "popularity                   0\n",
       "artists                      0\n",
       "album_name                   0\n",
       "danceability                 0\n",
       "energy                       0\n",
       "key                          0\n",
       "loudness                     0\n",
       "mode                      4450\n",
       "speechiness                  0\n",
       "acousticness                 0\n",
       "instrumentalness             0\n",
       "liveness                     0\n",
       "valence                      0\n",
       "tempo                        0\n",
       "features_duration_ms         0\n",
       "time_signature            2062\n",
       "n_beats                      0\n",
       "n_bars                       0\n",
       "popularity_confidence    12783\n",
       "processing                   0\n",
       "genre                        0\n",
       "dtype: int64"
      ]
     },
     "execution_count": 5,
     "metadata": {},
     "output_type": "execute_result"
    }
   ],
   "source": [
    "# controllo missing values\n",
    "dfm.isnull().sum()"
   ]
  },
  {
   "cell_type": "markdown",
   "metadata": {},
   "source": [
    "Ci sono tre categorie che presentano missing values:\n",
    "1) mode\n",
    "2) time_signature\n",
    "3) popularity_confidence"
   ]
  },
  {
   "cell_type": "markdown",
   "metadata": {},
   "source": [
    "1) la strategia adottata per mode è quella di valutare le frequenze di occorrenza di 0 e 1 per ogni genre, ed utilizzarle come probabilità per estrarre i valori (0,1) da sostituire ai missing values\n",
    "2) la strategia adottata per time_signature è di sostituire i missing values con la moda\n",
    "3) la strategia adottata per popularity_confidence è quella di eliminare la colonna"
   ]
  },
  {
   "cell_type": "markdown",
   "metadata": {},
   "source": [
    "TIME_SIGNATURE"
   ]
  },
  {
   "cell_type": "code",
   "execution_count": 6,
   "metadata": {},
   "outputs": [
    {
     "data": {
      "image/png": "[encoded data removed]",
      "text/plain": [
       "<Figure size 640x480 with 1 Axes>"
      ]
     },
     "metadata": {},
     "output_type": "display_data"
    }
   ],
   "source": [
    "# vediamo come si presenta\n",
    "sns.countplot(data=df, x=\"time_signature\", hue=\"explicit\")\n",
    "plt.ylabel('Count')\n",
    "plt.xlabel('Time_signature')\n",
    "plt.show()"
   ]
  },
  {
   "cell_type": "code",
   "execution_count": 7,
   "metadata": {},
   "outputs": [
    {
     "data": {
      "text/plain": [
       "count    12938.000000\n",
       "mean         3.876179\n",
       "std          0.566491\n",
       "min          0.000000\n",
       "25%          4.000000\n",
       "50%          4.000000\n",
       "75%          4.000000\n",
       "max          5.000000\n",
       "Name: time_signature, dtype: float64"
      ]
     },
     "execution_count": 7,
     "metadata": {},
     "output_type": "execute_result"
    }
   ],
   "source": [
    "dfm['time_signature'].describe()"
   ]
  },
  {
   "cell_type": "code",
   "execution_count": 8,
   "metadata": {},
   "outputs": [],
   "source": [
    "# notiamo che l'andamento è fortemente orientato verso i valore 4, tanto che si ha una media di 3.876179\n",
    "# quello che facciamo è quindi sostituire i valori mancanti con la moda"
   ]
  },
  {
   "cell_type": "code",
   "execution_count": 9,
   "metadata": {},
   "outputs": [
    {
     "data": {
      "text/plain": [
       "4.0"
      ]
     },
     "execution_count": 9,
     "metadata": {},
     "output_type": "execute_result"
    }
   ],
   "source": [
    "dfm['time_signature'].mode()[0]"
   ]
  },
  {
   "cell_type": "code",
   "execution_count": 10,
   "metadata": {},
   "outputs": [],
   "source": [
    "dfm['time_signature'] = dfm['time_signature'].fillna(dfm['time_signature'].mode()[0])"
   ]
  },
  {
   "cell_type": "code",
   "execution_count": 11,
   "metadata": {},
   "outputs": [
    {
     "data": {
      "text/plain": [
       "count    15000.000000\n",
       "mean         3.893200\n",
       "std          0.527837\n",
       "min          0.000000\n",
       "25%          4.000000\n",
       "50%          4.000000\n",
       "75%          4.000000\n",
       "max          5.000000\n",
       "Name: time_signature, dtype: float64"
      ]
     },
     "execution_count": 11,
     "metadata": {},
     "output_type": "execute_result"
    }
   ],
   "source": [
    "# controllo di aver riempito\n",
    "dfm['time_signature'].describe()"
   ]
  },
  {
   "cell_type": "code",
   "execution_count": 12,
   "metadata": {},
   "outputs": [
    {
     "data": {
      "text/plain": [
       "name                         0\n",
       "duration_ms                  0\n",
       "explicit                     0\n",
       "popularity                   0\n",
       "artists                      0\n",
       "album_name                   0\n",
       "danceability                 0\n",
       "energy                       0\n",
       "key                          0\n",
       "loudness                     0\n",
       "mode                      4450\n",
       "speechiness                  0\n",
       "acousticness                 0\n",
       "instrumentalness             0\n",
       "liveness                     0\n",
       "valence                      0\n",
       "tempo                        0\n",
       "features_duration_ms         0\n",
       "time_signature               0\n",
       "n_beats                      0\n",
       "n_bars                       0\n",
       "popularity_confidence    12783\n",
       "processing                   0\n",
       "genre                        0\n",
       "dtype: int64"
      ]
     },
     "execution_count": 12,
     "metadata": {},
     "output_type": "execute_result"
    }
   ],
   "source": [
    "dfm.isnull().sum()"
   ]
  },
  {
   "cell_type": "code",
   "execution_count": 13,
   "metadata": {},
   "outputs": [
    {
     "data": {
      "image/png": "[encoded data removed]",
      "text/plain": [
       "<Figure size 640x480 with 1 Axes>"
      ]
     },
     "metadata": {},
     "output_type": "display_data"
    }
   ],
   "source": [
    "# valuto come cambia il bar plot dopo il riempimento\n",
    "sns.countplot(data=dfm, x=\"time_signature\", hue=\"explicit\")\n",
    "plt.ylabel('Count')\n",
    "plt.xlabel('Time_signature')\n",
    "plt.show()"
   ]
  },
  {
   "cell_type": "code",
   "execution_count": 14,
   "metadata": {},
   "outputs": [],
   "source": [
    "# comportamento qualitativo mantenuto"
   ]
  },
  {
   "cell_type": "markdown",
   "metadata": {},
   "source": [
    "MODE"
   ]
  },
  {
   "cell_type": "code",
   "execution_count": 15,
   "metadata": {},
   "outputs": [
    {
     "data": {
      "image/png": "[encoded data removed]",
      "text/plain": [
       "<Figure size 640x480 with 1 Axes>"
      ]
     },
     "metadata": {},
     "output_type": "display_data"
    }
   ],
   "source": [
    "# valutiamo come si presenta\n",
    "sns.countplot(data=dfm, x=\"mode\")\n",
    "plt.ylabel('Count')\n",
    "plt.xlabel('Mode')\n",
    "plt.xticks([0, 1], ['Minor', 'Major'], rotation=0)\n",
    "plt.show()"
   ]
  },
  {
   "cell_type": "code",
   "execution_count": 16,
   "metadata": {},
   "outputs": [],
   "source": [
    "# si nota una prevalenza di 1, ma vediamo come si presenta in base al genere"
   ]
  },
  {
   "cell_type": "code",
   "execution_count": 17,
   "metadata": {},
   "outputs": [
    {
     "data": {
      "text/plain": [
       "genre\n",
       "afrobeat         219\n",
       "black-metal      229\n",
       "bluegrass        220\n",
       "brazil           225\n",
       "breakbeat        207\n",
       "chicago-house    196\n",
       "disney           221\n",
       "forro            229\n",
       "happy            224\n",
       "idm              230\n",
       "indian           231\n",
       "industrial       244\n",
       "iranian          227\n",
       "j-dance          218\n",
       "j-idol           226\n",
       "mandopop         226\n",
       "sleep            228\n",
       "spanish          235\n",
       "study            215\n",
       "techno           200\n",
       "Name: mode, dtype: int64"
      ]
     },
     "execution_count": 17,
     "metadata": {},
     "output_type": "execute_result"
    }
   ],
   "source": [
    "# vediamo il numero di missing values per genere\n",
    "dfm.groupby('genre')['mode'].apply(lambda x: x.isnull().sum())"
   ]
  },
  {
   "cell_type": "code",
   "execution_count": 18,
   "metadata": {},
   "outputs": [
    {
     "data": {
      "text/plain": [
       "genre\n",
       "afrobeat         531\n",
       "black-metal      521\n",
       "bluegrass        530\n",
       "brazil           525\n",
       "breakbeat        543\n",
       "chicago-house    554\n",
       "disney           529\n",
       "forro            521\n",
       "happy            526\n",
       "idm              520\n",
       "indian           519\n",
       "industrial       506\n",
       "iranian          523\n",
       "j-dance          532\n",
       "j-idol           524\n",
       "mandopop         524\n",
       "sleep            522\n",
       "spanish          515\n",
       "study            535\n",
       "techno           550\n",
       "Name: mode, dtype: int64"
      ]
     },
     "execution_count": 18,
     "metadata": {},
     "output_type": "execute_result"
    }
   ],
   "source": [
    "# ed il conseguente numero di valori non missing\n",
    "dfm.groupby('genre')['mode'].count()"
   ]
  },
  {
   "cell_type": "code",
   "execution_count": 19,
   "metadata": {},
   "outputs": [
    {
     "data": {
      "text/html": [
       "<div>\n",
       "<style scoped>\n",
       "    .dataframe tbody tr th:only-of-type {\n",
       "        vertical-align: middle;\n",
       "    }\n",
       "\n",
       "    .dataframe tbody tr th {\n",
       "        vertical-align: top;\n",
       "    }\n",
       "\n",
       "    .dataframe thead th {\n",
       "        text-align: right;\n",
       "    }\n",
       "</style>\n",
       "<table border=\"1\" class=\"dataframe\">\n",
       "  <thead>\n",
       "    <tr style=\"text-align: right;\">\n",
       "      <th>mode</th>\n",
       "      <th>0.0</th>\n",
       "      <th>1.0</th>\n",
       "    </tr>\n",
       "    <tr>\n",
       "      <th>genre</th>\n",
       "      <th></th>\n",
       "      <th></th>\n",
       "    </tr>\n",
       "  </thead>\n",
       "  <tbody>\n",
       "    <tr>\n",
       "      <th>afrobeat</th>\n",
       "      <td>0.440678</td>\n",
       "      <td>0.559322</td>\n",
       "    </tr>\n",
       "    <tr>\n",
       "      <th>black-metal</th>\n",
       "      <td>0.428023</td>\n",
       "      <td>0.571977</td>\n",
       "    </tr>\n",
       "    <tr>\n",
       "      <th>bluegrass</th>\n",
       "      <td>0.166038</td>\n",
       "      <td>0.833962</td>\n",
       "    </tr>\n",
       "    <tr>\n",
       "      <th>brazil</th>\n",
       "      <td>0.327619</td>\n",
       "      <td>0.672381</td>\n",
       "    </tr>\n",
       "    <tr>\n",
       "      <th>breakbeat</th>\n",
       "      <td>0.412523</td>\n",
       "      <td>0.587477</td>\n",
       "    </tr>\n",
       "    <tr>\n",
       "      <th>chicago-house</th>\n",
       "      <td>0.485560</td>\n",
       "      <td>0.514440</td>\n",
       "    </tr>\n",
       "    <tr>\n",
       "      <th>disney</th>\n",
       "      <td>0.247637</td>\n",
       "      <td>0.752363</td>\n",
       "    </tr>\n",
       "    <tr>\n",
       "      <th>forro</th>\n",
       "      <td>0.341651</td>\n",
       "      <td>0.658349</td>\n",
       "    </tr>\n",
       "    <tr>\n",
       "      <th>happy</th>\n",
       "      <td>0.368821</td>\n",
       "      <td>0.631179</td>\n",
       "    </tr>\n",
       "    <tr>\n",
       "      <th>idm</th>\n",
       "      <td>0.459615</td>\n",
       "      <td>0.540385</td>\n",
       "    </tr>\n",
       "    <tr>\n",
       "      <th>indian</th>\n",
       "      <td>0.310212</td>\n",
       "      <td>0.689788</td>\n",
       "    </tr>\n",
       "    <tr>\n",
       "      <th>industrial</th>\n",
       "      <td>0.411067</td>\n",
       "      <td>0.588933</td>\n",
       "    </tr>\n",
       "    <tr>\n",
       "      <th>iranian</th>\n",
       "      <td>0.437859</td>\n",
       "      <td>0.562141</td>\n",
       "    </tr>\n",
       "    <tr>\n",
       "      <th>j-dance</th>\n",
       "      <td>0.458647</td>\n",
       "      <td>0.541353</td>\n",
       "    </tr>\n",
       "    <tr>\n",
       "      <th>j-idol</th>\n",
       "      <td>0.284351</td>\n",
       "      <td>0.715649</td>\n",
       "    </tr>\n",
       "    <tr>\n",
       "      <th>mandopop</th>\n",
       "      <td>0.230916</td>\n",
       "      <td>0.769084</td>\n",
       "    </tr>\n",
       "    <tr>\n",
       "      <th>sleep</th>\n",
       "      <td>0.293103</td>\n",
       "      <td>0.706897</td>\n",
       "    </tr>\n",
       "    <tr>\n",
       "      <th>spanish</th>\n",
       "      <td>0.355340</td>\n",
       "      <td>0.644660</td>\n",
       "    </tr>\n",
       "    <tr>\n",
       "      <th>study</th>\n",
       "      <td>0.485981</td>\n",
       "      <td>0.514019</td>\n",
       "    </tr>\n",
       "    <tr>\n",
       "      <th>techno</th>\n",
       "      <td>0.416364</td>\n",
       "      <td>0.583636</td>\n",
       "    </tr>\n",
       "  </tbody>\n",
       "</table>\n",
       "</div>"
      ],
      "text/plain": [
       "mode                0.0       1.0\n",
       "genre                            \n",
       "afrobeat       0.440678  0.559322\n",
       "black-metal    0.428023  0.571977\n",
       "bluegrass      0.166038  0.833962\n",
       "brazil         0.327619  0.672381\n",
       "breakbeat      0.412523  0.587477\n",
       "chicago-house  0.485560  0.514440\n",
       "disney         0.247637  0.752363\n",
       "forro          0.341651  0.658349\n",
       "happy          0.368821  0.631179\n",
       "idm            0.459615  0.540385\n",
       "indian         0.310212  0.689788\n",
       "industrial     0.411067  0.588933\n",
       "iranian        0.437859  0.562141\n",
       "j-dance        0.458647  0.541353\n",
       "j-idol         0.284351  0.715649\n",
       "mandopop       0.230916  0.769084\n",
       "sleep          0.293103  0.706897\n",
       "spanish        0.355340  0.644660\n",
       "study          0.485981  0.514019\n",
       "techno         0.416364  0.583636"
      ]
     },
     "execution_count": 19,
     "metadata": {},
     "output_type": "execute_result"
    }
   ],
   "source": [
    "# creiamo il dataframe df1 senza missing values di mode e vediamo che rapporto c'è tra le occorrenze di 1 e 0\n",
    "df1 = dfm[dfm['mode'].notnull()]\n",
    "df1.groupby('genre')['mode'].value_counts(normalize=True).unstack() "
   ]
  },
  {
   "cell_type": "code",
   "execution_count": 20,
   "metadata": {},
   "outputs": [],
   "source": [
    "# notiamo che i rapporti tra 0 e 1 occorrono con frequenze diverse a seconda del genere, quindi se vogliamo sostituire i valori nulli tenendo conto di ciò, possiamo agire come segue:"
   ]
  },
  {
   "cell_type": "code",
   "execution_count": 21,
   "metadata": {},
   "outputs": [],
   "source": [
    "# crea un df con due colonne genre e n. di missing values per ogni genre, ed aggiunge l'indice alle righe\n",
    "missing_counts = dfm.groupby('genre')['mode'].apply(lambda x: x.isnull().sum()).reset_index()\n",
    "\n",
    "# rinomino le colonne del df missing_counts, che orasi chiameranno genre e missing_count invece che genre e mode\n",
    "missing_counts.columns = ['genre', 'missing_count']\n",
    "\n",
    "# Crea il DataFrame df1 privo di missing values\n",
    "df1 = dfm[dfm['mode'].notnull()]\n",
    "\n",
    "# Calcola le frequenze di 0 e 1 per ciascun genere in df1\n",
    "# frequencies_by_genre è un df che contiene le frequenze di 0 e 1 per ciascun genere\n",
    "frequencies_by_genre = df1.groupby('genre')['mode'].value_counts(normalize=True).unstack().fillna(0)\n",
    "\n",
    "# Sostituisci i missing values con liste di 0 e 1 basate sulle frequenze per ogni genere\n",
    "for genre in dfm['genre'].unique():\n",
    "    # restituisce True se c'è un missing value in mode e se è il genere in questione\n",
    "    missing_values = dfm['mode'].isnull() & (dfm['genre'] == genre)\n",
    "    # seleziona la giusta riga e colonna del df missing_counts e restituisce il conteggio di missing values per quel genre\n",
    "    missing_count = missing_counts[missing_counts['genre'] == genre]['missing_count'].values[0]\n",
    "\n",
    "    if missing_count > 0:\n",
    "        # retituisce la coppia di frequenze per i valori 0 e 1 per il genre in questione\n",
    "        frequencies = frequencies_by_genre.loc[genre]\n",
    "        # crea un array di 0 e 1 estratti in base alle frequenze del genere, utilizzate come probabilità\n",
    "        replacement_values = np.random.choice([0, 1], size=missing_count, p=frequencies)\n",
    "        # sostituisce i missing values (True) della colonna mode con i valori dell'array precedente\n",
    "        dfm.loc[missing_values, 'mode'] = replacement_values"
   ]
  },
  {
   "cell_type": "code",
   "execution_count": 22,
   "metadata": {},
   "outputs": [],
   "source": [
    "# controlliamo che i rapporti tra le occorrenze rimangano simili a quelli di partenza"
   ]
  },
  {
   "cell_type": "code",
   "execution_count": 23,
   "metadata": {},
   "outputs": [
    {
     "data": {
      "text/html": [
       "<div>\n",
       "<style scoped>\n",
       "    .dataframe tbody tr th:only-of-type {\n",
       "        vertical-align: middle;\n",
       "    }\n",
       "\n",
       "    .dataframe tbody tr th {\n",
       "        vertical-align: top;\n",
       "    }\n",
       "\n",
       "    .dataframe thead th {\n",
       "        text-align: right;\n",
       "    }\n",
       "</style>\n",
       "<table border=\"1\" class=\"dataframe\">\n",
       "  <thead>\n",
       "    <tr style=\"text-align: right;\">\n",
       "      <th>mode</th>\n",
       "      <th>0.0</th>\n",
       "      <th>1.0</th>\n",
       "    </tr>\n",
       "    <tr>\n",
       "      <th>genre</th>\n",
       "      <th></th>\n",
       "      <th></th>\n",
       "    </tr>\n",
       "  </thead>\n",
       "  <tbody>\n",
       "    <tr>\n",
       "      <th>afrobeat</th>\n",
       "      <td>0.464000</td>\n",
       "      <td>0.536000</td>\n",
       "    </tr>\n",
       "    <tr>\n",
       "      <th>black-metal</th>\n",
       "      <td>0.430667</td>\n",
       "      <td>0.569333</td>\n",
       "    </tr>\n",
       "    <tr>\n",
       "      <th>bluegrass</th>\n",
       "      <td>0.162667</td>\n",
       "      <td>0.837333</td>\n",
       "    </tr>\n",
       "    <tr>\n",
       "      <th>brazil</th>\n",
       "      <td>0.321333</td>\n",
       "      <td>0.678667</td>\n",
       "    </tr>\n",
       "    <tr>\n",
       "      <th>breakbeat</th>\n",
       "      <td>0.413333</td>\n",
       "      <td>0.586667</td>\n",
       "    </tr>\n",
       "    <tr>\n",
       "      <th>chicago-house</th>\n",
       "      <td>0.466667</td>\n",
       "      <td>0.533333</td>\n",
       "    </tr>\n",
       "    <tr>\n",
       "      <th>disney</th>\n",
       "      <td>0.242667</td>\n",
       "      <td>0.757333</td>\n",
       "    </tr>\n",
       "    <tr>\n",
       "      <th>forro</th>\n",
       "      <td>0.342667</td>\n",
       "      <td>0.657333</td>\n",
       "    </tr>\n",
       "    <tr>\n",
       "      <th>happy</th>\n",
       "      <td>0.384000</td>\n",
       "      <td>0.616000</td>\n",
       "    </tr>\n",
       "    <tr>\n",
       "      <th>idm</th>\n",
       "      <td>0.453333</td>\n",
       "      <td>0.546667</td>\n",
       "    </tr>\n",
       "    <tr>\n",
       "      <th>indian</th>\n",
       "      <td>0.318667</td>\n",
       "      <td>0.681333</td>\n",
       "    </tr>\n",
       "    <tr>\n",
       "      <th>industrial</th>\n",
       "      <td>0.422667</td>\n",
       "      <td>0.577333</td>\n",
       "    </tr>\n",
       "    <tr>\n",
       "      <th>iranian</th>\n",
       "      <td>0.432000</td>\n",
       "      <td>0.568000</td>\n",
       "    </tr>\n",
       "    <tr>\n",
       "      <th>j-dance</th>\n",
       "      <td>0.456000</td>\n",
       "      <td>0.544000</td>\n",
       "    </tr>\n",
       "    <tr>\n",
       "      <th>j-idol</th>\n",
       "      <td>0.288000</td>\n",
       "      <td>0.712000</td>\n",
       "    </tr>\n",
       "    <tr>\n",
       "      <th>mandopop</th>\n",
       "      <td>0.241333</td>\n",
       "      <td>0.758667</td>\n",
       "    </tr>\n",
       "    <tr>\n",
       "      <th>sleep</th>\n",
       "      <td>0.270667</td>\n",
       "      <td>0.729333</td>\n",
       "    </tr>\n",
       "    <tr>\n",
       "      <th>spanish</th>\n",
       "      <td>0.365333</td>\n",
       "      <td>0.634667</td>\n",
       "    </tr>\n",
       "    <tr>\n",
       "      <th>study</th>\n",
       "      <td>0.489333</td>\n",
       "      <td>0.510667</td>\n",
       "    </tr>\n",
       "    <tr>\n",
       "      <th>techno</th>\n",
       "      <td>0.421333</td>\n",
       "      <td>0.578667</td>\n",
       "    </tr>\n",
       "  </tbody>\n",
       "</table>\n",
       "</div>"
      ],
      "text/plain": [
       "mode                0.0       1.0\n",
       "genre                            \n",
       "afrobeat       0.464000  0.536000\n",
       "black-metal    0.430667  0.569333\n",
       "bluegrass      0.162667  0.837333\n",
       "brazil         0.321333  0.678667\n",
       "breakbeat      0.413333  0.586667\n",
       "chicago-house  0.466667  0.533333\n",
       "disney         0.242667  0.757333\n",
       "forro          0.342667  0.657333\n",
       "happy          0.384000  0.616000\n",
       "idm            0.453333  0.546667\n",
       "indian         0.318667  0.681333\n",
       "industrial     0.422667  0.577333\n",
       "iranian        0.432000  0.568000\n",
       "j-dance        0.456000  0.544000\n",
       "j-idol         0.288000  0.712000\n",
       "mandopop       0.241333  0.758667\n",
       "sleep          0.270667  0.729333\n",
       "spanish        0.365333  0.634667\n",
       "study          0.489333  0.510667\n",
       "techno         0.421333  0.578667"
      ]
     },
     "execution_count": 23,
     "metadata": {},
     "output_type": "execute_result"
    }
   ],
   "source": [
    "dfm.groupby('genre')['mode'].value_counts(normalize=True).unstack().fillna(0)"
   ]
  },
  {
   "cell_type": "code",
   "execution_count": 24,
   "metadata": {},
   "outputs": [
    {
     "data": {
      "text/plain": [
       "genre\n",
       "afrobeat         750\n",
       "black-metal      750\n",
       "bluegrass        750\n",
       "brazil           750\n",
       "breakbeat        750\n",
       "chicago-house    750\n",
       "disney           750\n",
       "forro            750\n",
       "happy            750\n",
       "idm              750\n",
       "indian           750\n",
       "industrial       750\n",
       "iranian          750\n",
       "j-dance          750\n",
       "j-idol           750\n",
       "mandopop         750\n",
       "sleep            750\n",
       "spanish          750\n",
       "study            750\n",
       "techno           750\n",
       "Name: mode, dtype: int64"
      ]
     },
     "execution_count": 24,
     "metadata": {},
     "output_type": "execute_result"
    }
   ],
   "source": [
    "# controlliamo di avere 750 canzoni per genere(quindi nessun miss value)\n",
    "dfm.groupby('genre')['mode'].count()"
   ]
  },
  {
   "cell_type": "code",
   "execution_count": 25,
   "metadata": {},
   "outputs": [
    {
     "data": {
      "text/plain": [
       "name                         0\n",
       "duration_ms                  0\n",
       "explicit                     0\n",
       "popularity                   0\n",
       "artists                      0\n",
       "album_name                   0\n",
       "danceability                 0\n",
       "energy                       0\n",
       "key                          0\n",
       "loudness                     0\n",
       "mode                         0\n",
       "speechiness                  0\n",
       "acousticness                 0\n",
       "instrumentalness             0\n",
       "liveness                     0\n",
       "valence                      0\n",
       "tempo                        0\n",
       "features_duration_ms         0\n",
       "time_signature               0\n",
       "n_beats                      0\n",
       "n_bars                       0\n",
       "popularity_confidence    12783\n",
       "processing                   0\n",
       "genre                        0\n",
       "dtype: int64"
      ]
     },
     "execution_count": 25,
     "metadata": {},
     "output_type": "execute_result"
    }
   ],
   "source": [
    "# altra prova\n",
    "dfm.isnull().sum()"
   ]
  },
  {
   "cell_type": "markdown",
   "metadata": {},
   "source": [
    "POPULARITY_CONFIDENCE"
   ]
  },
  {
   "cell_type": "code",
   "execution_count": 26,
   "metadata": {},
   "outputs": [
    {
     "data": {
      "text/plain": [
       "name                         0\n",
       "duration_ms                  0\n",
       "explicit                     0\n",
       "popularity                   0\n",
       "artists                      0\n",
       "album_name                   0\n",
       "danceability                 0\n",
       "energy                       0\n",
       "key                          0\n",
       "loudness                     0\n",
       "mode                         0\n",
       "speechiness                  0\n",
       "acousticness                 0\n",
       "instrumentalness             0\n",
       "liveness                     0\n",
       "valence                      0\n",
       "tempo                        0\n",
       "features_duration_ms         0\n",
       "time_signature               0\n",
       "n_beats                      0\n",
       "n_bars                       0\n",
       "popularity_confidence    12783\n",
       "processing                   0\n",
       "genre                        0\n",
       "dtype: int64"
      ]
     },
     "execution_count": 26,
     "metadata": {},
     "output_type": "execute_result"
    }
   ],
   "source": [
    "# in questo caso i missing values sono più dell'85 per 100 del totale, quindi la decisione è quella di eliminare la colonna\n",
    "dfm.isnull().sum()"
   ]
  },
  {
   "cell_type": "code",
   "execution_count": 27,
   "metadata": {},
   "outputs": [],
   "source": [
    "dfm = dfm.drop('popularity_confidence', axis=1)"
   ]
  },
  {
   "cell_type": "code",
   "execution_count": 28,
   "metadata": {},
   "outputs": [
    {
     "data": {
      "text/plain": [
       "name                    0\n",
       "duration_ms             0\n",
       "explicit                0\n",
       "popularity              0\n",
       "artists                 0\n",
       "album_name              0\n",
       "danceability            0\n",
       "energy                  0\n",
       "key                     0\n",
       "loudness                0\n",
       "mode                    0\n",
       "speechiness             0\n",
       "acousticness            0\n",
       "instrumentalness        0\n",
       "liveness                0\n",
       "valence                 0\n",
       "tempo                   0\n",
       "features_duration_ms    0\n",
       "time_signature          0\n",
       "n_beats                 0\n",
       "n_bars                  0\n",
       "processing              0\n",
       "genre                   0\n",
       "dtype: int64"
      ]
     },
     "execution_count": 28,
     "metadata": {},
     "output_type": "execute_result"
    }
   ],
   "source": [
    "dfm.isnull().sum()"
   ]
  },
  {
   "cell_type": "markdown",
   "metadata": {},
   "source": [
    "Il dataframe dfm è il risultato della sostituzione dei missing values"
   ]
  },
  {
   "cell_type": "code",
   "execution_count": 30,
   "metadata": {},
   "outputs": [],
   "source": [
    "import numpy as np\n",
    "import pandas as pd\n",
    "import matplotlib.pyplot as plt \n",
    "import seaborn as sns"
   ]
  },
  {
   "cell_type": "code",
   "execution_count": 31,
   "metadata": {},
   "outputs": [],
   "source": [
    "import math\n",
    "import numpy as np\n",
    "import pandas as pd\n",
    "import matplotlib.pyplot as plt\n",
    "from sklearn.preprocessing import StandardScaler, MinMaxScaler\n",
    "from scipy.cluster.hierarchy import linkage, dendrogram, fcluster\n",
    "import seaborn as sns\n",
    "from scipy.spatial.distance import pdist, squareform"
   ]
  },
  {
   "cell_type": "code",
   "execution_count": 32,
   "metadata": {},
   "outputs": [],
   "source": [
    "from sklearn.metrics import *\n",
    "from sklearn.cluster import KMeans, DBSCAN, AgglomerativeClustering\n",
    "from sklearn.neighbors import kneighbors_graph"
   ]
  },
  {
   "cell_type": "code",
   "execution_count": 38,
   "metadata": {},
   "outputs": [
    {
     "data": {
      "text/plain": [
       "duration_ms               int64\n",
       "popularity                int64\n",
       "danceability            float64\n",
       "energy                  float64\n",
       "loudness                float64\n",
       "speechiness             float64\n",
       "acousticness            float64\n",
       "instrumentalness        float64\n",
       "liveness                float64\n",
       "valence                 float64\n",
       "tempo                   float64\n",
       "features_duration_ms      int64\n",
       "n_beats                 float64\n",
       "n_bars                  float64\n",
       "processing              float64\n",
       "dtype: object"
      ]
     },
     "execution_count": 38,
     "metadata": {},
     "output_type": "execute_result"
    }
   ],
   "source": [
    "# rimuovo le variabili categoriche\n",
    "dfk = dfm.drop(['name', 'artists', 'album_name', 'genre'], axis=1)\n",
    "# rimuovo le variabili binary ed ordinal\n",
    "dfk.drop(['explicit', 'mode', 'key', 'time_signature'], axis=1, inplace=True)\n",
    "dfk.dtypes"
   ]
  },
  {
   "cell_type": "code",
   "execution_count": 36,
   "metadata": {},
   "outputs": [
    {
     "name": "stdout",
     "output_type": "stream",
     "text": [
      "labels {-1: 15000, 0: 0}\n"
     ]
    },
    {
     "ename": "ValueError",
     "evalue": "Found array with 0 sample(s) (shape=(0, 23)) while a minimum of 1 is required.",
     "output_type": "error",
     "traceback": [
      "\u001b[1;31m---------------------------------------------------------------------------\u001b[0m",
      "\u001b[1;31mValueError\u001b[0m                                Traceback (most recent call last)",
      "Cell \u001b[1;32mIn[36], line 6\u001b[0m\n\u001b[0;32m      4\u001b[0m hist, bins \u001b[38;5;241m=\u001b[39m np\u001b[38;5;241m.\u001b[39mhistogram(dbscan\u001b[38;5;241m.\u001b[39mlabels_, bins\u001b[38;5;241m=\u001b[39m\u001b[38;5;28mrange\u001b[39m(\u001b[38;5;241m-\u001b[39m\u001b[38;5;241m1\u001b[39m, \u001b[38;5;28mlen\u001b[39m(\u001b[38;5;28mset\u001b[39m(dbscan\u001b[38;5;241m.\u001b[39mlabels_)) \u001b[38;5;241m+\u001b[39m \u001b[38;5;241m1\u001b[39m))\n\u001b[0;32m      5\u001b[0m \u001b[38;5;28mprint\u001b[39m(\u001b[38;5;124m'\u001b[39m\u001b[38;5;124mlabels\u001b[39m\u001b[38;5;124m'\u001b[39m, \u001b[38;5;28mdict\u001b[39m(\u001b[38;5;28mzip\u001b[39m(bins, hist)))\n\u001b[1;32m----> 6\u001b[0m \u001b[38;5;28mprint\u001b[39m(\u001b[38;5;124m'\u001b[39m\u001b[38;5;124msilhouette\u001b[39m\u001b[38;5;124m'\u001b[39m, silhouette_score(dfm[dbscan\u001b[38;5;241m.\u001b[39mlabels_ \u001b[38;5;241m!=\u001b[39m \u001b[38;5;241m-\u001b[39m\u001b[38;5;241m1\u001b[39m], dbscan\u001b[38;5;241m.\u001b[39mlabels_[dbscan\u001b[38;5;241m.\u001b[39mlabels_ \u001b[38;5;241m!=\u001b[39m \u001b[38;5;241m-\u001b[39m\u001b[38;5;241m1\u001b[39m]))\n",
      "File \u001b[1;32m~\\anaconda\\Lib\\site-packages\\sklearn\\utils\\_param_validation.py:211\u001b[0m, in \u001b[0;36mvalidate_params.<locals>.decorator.<locals>.wrapper\u001b[1;34m(*args, **kwargs)\u001b[0m\n\u001b[0;32m    205\u001b[0m \u001b[38;5;28;01mtry\u001b[39;00m:\n\u001b[0;32m    206\u001b[0m     \u001b[38;5;28;01mwith\u001b[39;00m config_context(\n\u001b[0;32m    207\u001b[0m         skip_parameter_validation\u001b[38;5;241m=\u001b[39m(\n\u001b[0;32m    208\u001b[0m             prefer_skip_nested_validation \u001b[38;5;129;01mor\u001b[39;00m global_skip_validation\n\u001b[0;32m    209\u001b[0m         )\n\u001b[0;32m    210\u001b[0m     ):\n\u001b[1;32m--> 211\u001b[0m         \u001b[38;5;28;01mreturn\u001b[39;00m func(\u001b[38;5;241m*\u001b[39margs, \u001b[38;5;241m*\u001b[39m\u001b[38;5;241m*\u001b[39mkwargs)\n\u001b[0;32m    212\u001b[0m \u001b[38;5;28;01mexcept\u001b[39;00m InvalidParameterError \u001b[38;5;28;01mas\u001b[39;00m e:\n\u001b[0;32m    213\u001b[0m     \u001b[38;5;66;03m# When the function is just a wrapper around an estimator, we allow\u001b[39;00m\n\u001b[0;32m    214\u001b[0m     \u001b[38;5;66;03m# the function to delegate validation to the estimator, but we replace\u001b[39;00m\n\u001b[0;32m    215\u001b[0m     \u001b[38;5;66;03m# the name of the estimator by the name of the function in the error\u001b[39;00m\n\u001b[0;32m    216\u001b[0m     \u001b[38;5;66;03m# message to avoid confusion.\u001b[39;00m\n\u001b[0;32m    217\u001b[0m     msg \u001b[38;5;241m=\u001b[39m re\u001b[38;5;241m.\u001b[39msub(\n\u001b[0;32m    218\u001b[0m         \u001b[38;5;124mr\u001b[39m\u001b[38;5;124m\"\u001b[39m\u001b[38;5;124mparameter of \u001b[39m\u001b[38;5;124m\\\u001b[39m\u001b[38;5;124mw+ must be\u001b[39m\u001b[38;5;124m\"\u001b[39m,\n\u001b[0;32m    219\u001b[0m         \u001b[38;5;124mf\u001b[39m\u001b[38;5;124m\"\u001b[39m\u001b[38;5;124mparameter of \u001b[39m\u001b[38;5;132;01m{\u001b[39;00mfunc\u001b[38;5;241m.\u001b[39m\u001b[38;5;18m__qualname__\u001b[39m\u001b[38;5;132;01m}\u001b[39;00m\u001b[38;5;124m must be\u001b[39m\u001b[38;5;124m\"\u001b[39m,\n\u001b[0;32m    220\u001b[0m         \u001b[38;5;28mstr\u001b[39m(e),\n\u001b[0;32m    221\u001b[0m     )\n",
      "File \u001b[1;32m~\\anaconda\\Lib\\site-packages\\sklearn\\metrics\\cluster\\_unsupervised.py:131\u001b[0m, in \u001b[0;36msilhouette_score\u001b[1;34m(X, labels, metric, sample_size, random_state, **kwds)\u001b[0m\n\u001b[0;32m    129\u001b[0m     \u001b[38;5;28;01melse\u001b[39;00m:\n\u001b[0;32m    130\u001b[0m         X, labels \u001b[38;5;241m=\u001b[39m X[indices], labels[indices]\n\u001b[1;32m--> 131\u001b[0m \u001b[38;5;28;01mreturn\u001b[39;00m np\u001b[38;5;241m.\u001b[39mmean(silhouette_samples(X, labels, metric\u001b[38;5;241m=\u001b[39mmetric, \u001b[38;5;241m*\u001b[39m\u001b[38;5;241m*\u001b[39mkwds))\n",
      "File \u001b[1;32m~\\anaconda\\Lib\\site-packages\\sklearn\\utils\\_param_validation.py:184\u001b[0m, in \u001b[0;36mvalidate_params.<locals>.decorator.<locals>.wrapper\u001b[1;34m(*args, **kwargs)\u001b[0m\n\u001b[0;32m    182\u001b[0m global_skip_validation \u001b[38;5;241m=\u001b[39m get_config()[\u001b[38;5;124m\"\u001b[39m\u001b[38;5;124mskip_parameter_validation\u001b[39m\u001b[38;5;124m\"\u001b[39m]\n\u001b[0;32m    183\u001b[0m \u001b[38;5;28;01mif\u001b[39;00m global_skip_validation:\n\u001b[1;32m--> 184\u001b[0m     \u001b[38;5;28;01mreturn\u001b[39;00m func(\u001b[38;5;241m*\u001b[39margs, \u001b[38;5;241m*\u001b[39m\u001b[38;5;241m*\u001b[39mkwargs)\n\u001b[0;32m    186\u001b[0m func_sig \u001b[38;5;241m=\u001b[39m signature(func)\n\u001b[0;32m    188\u001b[0m \u001b[38;5;66;03m# Map *args/**kwargs to the function signature\u001b[39;00m\n",
      "File \u001b[1;32m~\\anaconda\\Lib\\site-packages\\sklearn\\metrics\\cluster\\_unsupervised.py:258\u001b[0m, in \u001b[0;36msilhouette_samples\u001b[1;34m(X, labels, metric, **kwds)\u001b[0m\n\u001b[0;32m    188\u001b[0m \u001b[38;5;129m@validate_params\u001b[39m(\n\u001b[0;32m    189\u001b[0m     {\n\u001b[0;32m    190\u001b[0m         \u001b[38;5;124m\"\u001b[39m\u001b[38;5;124mX\u001b[39m\u001b[38;5;124m\"\u001b[39m: [\u001b[38;5;124m\"\u001b[39m\u001b[38;5;124marray-like\u001b[39m\u001b[38;5;124m\"\u001b[39m, \u001b[38;5;124m\"\u001b[39m\u001b[38;5;124msparse matrix\u001b[39m\u001b[38;5;124m\"\u001b[39m],\n\u001b[1;32m   (...)\u001b[0m\n\u001b[0;32m    195\u001b[0m )\n\u001b[0;32m    196\u001b[0m \u001b[38;5;28;01mdef\u001b[39;00m \u001b[38;5;21msilhouette_samples\u001b[39m(X, labels, \u001b[38;5;241m*\u001b[39m, metric\u001b[38;5;241m=\u001b[39m\u001b[38;5;124m\"\u001b[39m\u001b[38;5;124meuclidean\u001b[39m\u001b[38;5;124m\"\u001b[39m, \u001b[38;5;241m*\u001b[39m\u001b[38;5;241m*\u001b[39mkwds):\n\u001b[0;32m    197\u001b[0m \u001b[38;5;250m    \u001b[39m\u001b[38;5;124;03m\"\"\"Compute the Silhouette Coefficient for each sample.\u001b[39;00m\n\u001b[0;32m    198\u001b[0m \n\u001b[0;32m    199\u001b[0m \u001b[38;5;124;03m    The Silhouette Coefficient is a measure of how well samples are clustered\u001b[39;00m\n\u001b[1;32m   (...)\u001b[0m\n\u001b[0;32m    256\u001b[0m \u001b[38;5;124;03m       <https://en.wikipedia.org/wiki/Silhouette_(clustering)>`_\u001b[39;00m\n\u001b[0;32m    257\u001b[0m \u001b[38;5;124;03m    \"\"\"\u001b[39;00m\n\u001b[1;32m--> 258\u001b[0m     X, labels \u001b[38;5;241m=\u001b[39m check_X_y(X, labels, accept_sparse\u001b[38;5;241m=\u001b[39m[\u001b[38;5;124m\"\u001b[39m\u001b[38;5;124mcsr\u001b[39m\u001b[38;5;124m\"\u001b[39m])\n\u001b[0;32m    260\u001b[0m     \u001b[38;5;66;03m# Check for non-zero diagonal entries in precomputed distance matrix\u001b[39;00m\n\u001b[0;32m    261\u001b[0m     \u001b[38;5;28;01mif\u001b[39;00m metric \u001b[38;5;241m==\u001b[39m \u001b[38;5;124m\"\u001b[39m\u001b[38;5;124mprecomputed\u001b[39m\u001b[38;5;124m\"\u001b[39m:\n",
      "File \u001b[1;32m~\\anaconda\\Lib\\site-packages\\sklearn\\utils\\validation.py:1147\u001b[0m, in \u001b[0;36mcheck_X_y\u001b[1;34m(X, y, accept_sparse, accept_large_sparse, dtype, order, copy, force_all_finite, ensure_2d, allow_nd, multi_output, ensure_min_samples, ensure_min_features, y_numeric, estimator)\u001b[0m\n\u001b[0;32m   1142\u001b[0m         estimator_name \u001b[38;5;241m=\u001b[39m _check_estimator_name(estimator)\n\u001b[0;32m   1143\u001b[0m     \u001b[38;5;28;01mraise\u001b[39;00m \u001b[38;5;167;01mValueError\u001b[39;00m(\n\u001b[0;32m   1144\u001b[0m         \u001b[38;5;124mf\u001b[39m\u001b[38;5;124m\"\u001b[39m\u001b[38;5;132;01m{\u001b[39;00mestimator_name\u001b[38;5;132;01m}\u001b[39;00m\u001b[38;5;124m requires y to be passed, but the target y is None\u001b[39m\u001b[38;5;124m\"\u001b[39m\n\u001b[0;32m   1145\u001b[0m     )\n\u001b[1;32m-> 1147\u001b[0m X \u001b[38;5;241m=\u001b[39m check_array(\n\u001b[0;32m   1148\u001b[0m     X,\n\u001b[0;32m   1149\u001b[0m     accept_sparse\u001b[38;5;241m=\u001b[39maccept_sparse,\n\u001b[0;32m   1150\u001b[0m     accept_large_sparse\u001b[38;5;241m=\u001b[39maccept_large_sparse,\n\u001b[0;32m   1151\u001b[0m     dtype\u001b[38;5;241m=\u001b[39mdtype,\n\u001b[0;32m   1152\u001b[0m     order\u001b[38;5;241m=\u001b[39morder,\n\u001b[0;32m   1153\u001b[0m     copy\u001b[38;5;241m=\u001b[39mcopy,\n\u001b[0;32m   1154\u001b[0m     force_all_finite\u001b[38;5;241m=\u001b[39mforce_all_finite,\n\u001b[0;32m   1155\u001b[0m     ensure_2d\u001b[38;5;241m=\u001b[39mensure_2d,\n\u001b[0;32m   1156\u001b[0m     allow_nd\u001b[38;5;241m=\u001b[39mallow_nd,\n\u001b[0;32m   1157\u001b[0m     ensure_min_samples\u001b[38;5;241m=\u001b[39mensure_min_samples,\n\u001b[0;32m   1158\u001b[0m     ensure_min_features\u001b[38;5;241m=\u001b[39mensure_min_features,\n\u001b[0;32m   1159\u001b[0m     estimator\u001b[38;5;241m=\u001b[39mestimator,\n\u001b[0;32m   1160\u001b[0m     input_name\u001b[38;5;241m=\u001b[39m\u001b[38;5;124m\"\u001b[39m\u001b[38;5;124mX\u001b[39m\u001b[38;5;124m\"\u001b[39m,\n\u001b[0;32m   1161\u001b[0m )\n\u001b[0;32m   1163\u001b[0m y \u001b[38;5;241m=\u001b[39m _check_y(y, multi_output\u001b[38;5;241m=\u001b[39mmulti_output, y_numeric\u001b[38;5;241m=\u001b[39my_numeric, estimator\u001b[38;5;241m=\u001b[39mestimator)\n\u001b[0;32m   1165\u001b[0m check_consistent_length(X, y)\n",
      "File \u001b[1;32m~\\anaconda\\Lib\\site-packages\\sklearn\\utils\\validation.py:969\u001b[0m, in \u001b[0;36mcheck_array\u001b[1;34m(array, accept_sparse, accept_large_sparse, dtype, order, copy, force_all_finite, ensure_2d, allow_nd, ensure_min_samples, ensure_min_features, estimator, input_name)\u001b[0m\n\u001b[0;32m    967\u001b[0m     n_samples \u001b[38;5;241m=\u001b[39m _num_samples(array)\n\u001b[0;32m    968\u001b[0m     \u001b[38;5;28;01mif\u001b[39;00m n_samples \u001b[38;5;241m<\u001b[39m ensure_min_samples:\n\u001b[1;32m--> 969\u001b[0m         \u001b[38;5;28;01mraise\u001b[39;00m \u001b[38;5;167;01mValueError\u001b[39;00m(\n\u001b[0;32m    970\u001b[0m             \u001b[38;5;124m\"\u001b[39m\u001b[38;5;124mFound array with \u001b[39m\u001b[38;5;132;01m%d\u001b[39;00m\u001b[38;5;124m sample(s) (shape=\u001b[39m\u001b[38;5;132;01m%s\u001b[39;00m\u001b[38;5;124m) while a\u001b[39m\u001b[38;5;124m\"\u001b[39m\n\u001b[0;32m    971\u001b[0m             \u001b[38;5;124m\"\u001b[39m\u001b[38;5;124m minimum of \u001b[39m\u001b[38;5;132;01m%d\u001b[39;00m\u001b[38;5;124m is required\u001b[39m\u001b[38;5;132;01m%s\u001b[39;00m\u001b[38;5;124m.\u001b[39m\u001b[38;5;124m\"\u001b[39m\n\u001b[0;32m    972\u001b[0m             \u001b[38;5;241m%\u001b[39m (n_samples, array\u001b[38;5;241m.\u001b[39mshape, ensure_min_samples, context)\n\u001b[0;32m    973\u001b[0m         )\n\u001b[0;32m    975\u001b[0m \u001b[38;5;28;01mif\u001b[39;00m ensure_min_features \u001b[38;5;241m>\u001b[39m \u001b[38;5;241m0\u001b[39m \u001b[38;5;129;01mand\u001b[39;00m array\u001b[38;5;241m.\u001b[39mndim \u001b[38;5;241m==\u001b[39m \u001b[38;5;241m2\u001b[39m:\n\u001b[0;32m    976\u001b[0m     n_features \u001b[38;5;241m=\u001b[39m array\u001b[38;5;241m.\u001b[39mshape[\u001b[38;5;241m1\u001b[39m]\n",
      "\u001b[1;31mValueError\u001b[0m: Found array with 0 sample(s) (shape=(0, 23)) while a minimum of 1 is required."
     ]
    }
   ],
   "source": [
    "dbscan = DBSCAN(eps=0.3, min_samples=5, metric='euclidean')\n",
    "dbscan.fit(dfk)\n",
    "\n",
    "hist, bins = np.histogram(dbscan.labels_, bins=range(-1, len(set(dbscan.labels_)) + 1))\n",
    "print('labels', dict(zip(bins, hist)))\n",
    "print('silhouette', silhouette_score(dfm[dbscan.labels_ != -1], dbscan.labels_[dbscan.labels_ != -1]))"
   ]
  },
  {
   "cell_type": "code",
   "execution_count": null,
   "metadata": {},
   "outputs": [],
   "source": []
  }
 ],
 "metadata": {
  "kernelspec": {
   "display_name": "Python 3 (ipykernel)",
   "language": "python",
   "name": "python3"
  },
  "language_info": {
   "codemirror_mode": {
    "name": "ipython",
    "version": 3
   },
   "file_extension": ".py",
   "mimetype": "text/x-python",
   "name": "python",
   "nbconvert_exporter": "python",
   "pygments_lexer": "ipython3",
   "version": "3.11.4"
  }
 },
 "nbformat": 4,
 "nbformat_minor": 2
}
